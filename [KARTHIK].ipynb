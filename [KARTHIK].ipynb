{
  "nbformat": 4,
  "nbformat_minor": 0,
  "metadata": {
    "colab": {
      "name": "[KARTHIK].ipynb",
      "provenance": [],
      "collapsed_sections": []
    },
    "kernelspec": {
      "name": "python3",
      "display_name": "Python 3"
    }
  },
  "cells": [
    {
      "cell_type": "code",
      "metadata": {
        "id": "aHzN5tIvIadh",
        "colab_type": "code",
        "colab": {}
      },
      "source": [
        "import numpy as np\n",
        "import pandas as pd\n",
        "import numpy.linalg as lng\n",
        "from sympy import Matrix\n",
        "import math"
      ],
      "execution_count": 0,
      "outputs": []
    },
    {
      "cell_type": "markdown",
      "metadata": {
        "id": "Kdt8D2w8Clvp",
        "colab_type": "text"
      },
      "source": [
        "## Part 0: Declare Initial Values\n",
        "\n",
        "Declare initial values for:\n",
        "- $\\mu$ = $\\begin{pmatrix} .02\\\\ .07\\\\ .15\\\\ .20 \\end{pmatrix}$\n",
        "- $\\sigma$ = $\\begin{pmatrix} .05\\\\ .12\\\\ .17\\\\ .25 \\end{pmatrix}$\n",
        "- $R$ = $\\begin{pmatrix} 1 & .3 & .3 & .3\\\\ .3 & 1 & .6 & .6 \\\\ .3 & .6 & 1 & .6 \\\\ .3 & .6 & .6 & 1 \\\\ \\end{pmatrix}$\n",
        "- $m$(Expected Return) = $0.045$"
      ]
    },
    {
      "cell_type": "code",
      "metadata": {
        "id": "NisHp40lFpbI",
        "colab_type": "code",
        "colab": {}
      },
      "source": [
        "mu_value = [.02, .07, .15, .20]\n",
        "sig_value = [.05, .12, .17, .25]\n",
        "cor_values = [[1, .3, .3, .3],\n",
        "              [.3, 1, .6, .6],\n",
        "              [.3, .6, 1, .6],\n",
        "              [.3, .6, .6, 1]\n",
        "              ]   \n",
        "m = 0.045"
      ],
      "execution_count": 0,
      "outputs": []
    },
    {
      "cell_type": "code",
      "metadata": {
        "id": "C5VU4i9qYz6Q",
        "colab_type": "code",
        "colab": {}
      },
      "source": [
        "# Convert lists to np.arrays for fast matrix calculation\n",
        "mu, sig, one_mtx = np.array(mu_value), np.diag(sig_value), np.ones(4)\n"
      ],
      "execution_count": 0,
      "outputs": []
    },
    {
      "cell_type": "markdown",
      "metadata": {
        "id": "3g4_QbkFF21r",
        "colab_type": "text"
      },
      "source": [
        "## Part 1: Calculate Optimal Weight Matrix\n",
        "\n",
        "Create a function to:\n",
        "- Find $\\Sigma$ and ${\\Sigma}^{-1}$(Covariance and Inverse Covariance Matrix)\n",
        "- Find $A, B, C$\n",
        "- Find $\\lambda$ and $\\gamma$\n",
        "- Find $\\lambda\\mu$\n",
        "- Find $\\gamma$ vector"
      ]
    },
    {
      "cell_type": "code",
      "metadata": {
        "id": "sS-nrL5qy4xy",
        "colab_type": "code",
        "colab": {}
      },
      "source": [
        "# Get Covariance and InverseCovariance Matrix for given factor(1, 1.25, 1.5)\n",
        "def get_cov_mtx_for(factor=1):\n",
        "  cov = np.matmul(np.matmul(sig, np.array(cor_values) * factor), sig)\n",
        "  inv_cov = Matrix.inv(Matrix(cov))\n",
        "  return cov, inv_cov\n",
        "\n",
        "# Get Constant values from Inverse Covariance matrix and mu\n",
        "def get_ABC_values_for(inv_cov):\n",
        "  A = np.matmul(np.matmul(np.transpose(one_mtx), inv_cov), one_mtx)\n",
        "  B = np.matmul(np.matmul(np.transpose(mu), inv_cov), one_mtx)\n",
        "  C = np.matmul(np.matmul(np.transpose(mu), inv_cov), mu)\n",
        "\n",
        "  return A,B,C\n",
        "\n",
        "# Get Lambda and Gamma values(Lagrangian Multiplier)\n",
        "get_lambda_from = lambda x, A,B,C: (A * x - B)/(A * C - B**2)\n",
        "get_gamma_from = lambda x,A,B,C : (C - B * x)/(A * C - B**2)\n",
        "\n",
        "# Get Lambda mu, and Gamma vector\n",
        "get_lamda_mu_for = lambda x : get_lambda_from(x,A,B,C) * mu\n",
        "get_gamma_vec_for = lambda x, A, B, C : get_gamma_from(x,A,B,C) * one_mtx\n",
        "\n",
        "# Get the optimal weight matrix for a given target return and factor\n",
        "def get_weight_matrix_for(x, target_ret):\n",
        "  cov_mtx, inv_cov_mtx = get_cov_mtx_for(x)\n",
        "  A,B,C = get_ABC_values_for(inv_cov_mtx)\n",
        "  \n",
        "  LG = get_lambda_from(target_ret,A,B,C) * mu + get_gamma_vec_for(target_ret,A,B,C)\n",
        "  return np.matmul(inv_cov_mtx, LG) \n"
      ],
      "execution_count": 0,
      "outputs": []
    },
    {
      "cell_type": "markdown",
      "metadata": {
        "id": "u_ndeMp9HHrV",
        "colab_type": "text"
      },
      "source": [
        "### Part 1.1: Calculate weight Matrix for Covariance factor of 1, 1.25, 1.5"
      ]
    },
    {
      "cell_type": "code",
      "metadata": {
        "id": "8XqpFYWyHDKp",
        "colab_type": "code",
        "outputId": "629d9a9b-e0b5-47cc-b294-281b2fe7de3d",
        "colab": {
          "base_uri": "https://localhost:8080/",
          "height": 124
        }
      },
      "source": [
        "[get_weight_matrix_for(x, m) for x in [1,1.25,1.5]]"
      ],
      "execution_count": 0,
      "outputs": [
        {
          "output_type": "execute_result",
          "data": {
            "text/plain": [
              "[array([0.785110661757705, 0.0538641896251522, 0.133554724646863,\n",
              "        0.0274704239702789], dtype=object),\n",
              " array([0.785110661757705, 0.0538641896251527, 0.133554724646863,\n",
              "        0.0274704239702788], dtype=object),\n",
              " array([0.785110661757706, 0.0538641896251528, 0.133554724646863,\n",
              "        0.0274704239702788], dtype=object)]"
            ]
          },
          "metadata": {
            "tags": []
          },
          "execution_count": 5
        }
      ]
    },
    {
      "cell_type": "markdown",
      "metadata": {
        "id": "i1htXFI8HVmR",
        "colab_type": "text"
      },
      "source": [
        "### Part 1.2: Simulate for 2000 data points(Target Return) with Covariance factor 1"
      ]
    },
    {
      "cell_type": "code",
      "metadata": {
        "id": "4kVVYbcP8T31",
        "colab_type": "code",
        "outputId": "0bda2555-7596-49cf-e63a-b16a6bcba4a9",
        "colab": {
          "base_uri": "https://localhost:8080/",
          "height": 252
        }
      },
      "source": [
        "m_simulation =  np.arange(1,101)/1000\n",
        "weights_sim = [get_weight_matrix_for(1, x) for x in m_simulation]\n",
        "cov_mtx, _ = get_cov_mtx_for(1)\n",
        "\n",
        "df = pd.DataFrame(weights_sim, index=m_simulation)\n",
        "df.reset_index(inplace=True)\n",
        "df.columns = \"target_m asset_1 asset_2 asset_3 asset_4\".split()\n",
        "df[\"Total\"] = df.asset_1+df.asset_2+df.asset_3+df.asset_4\n",
        "# df.style.format({'target_m': \"{:.2%}\", 'asset_1': \"{:.2%}\",'asset_2': \"{:.2%}\",'asset_3': \"{:.2%}\",'asset_4': \"{:.2%}\"})\n",
        "\n",
        "def calc(row):\n",
        "  r = np.array([row.asset_1, row.asset_1, row.asset_3, row.asset_4])\n",
        "  return np.matmul(np.matmul(r.transpose(), cov_mtx), r)**0.5\n",
        "\n",
        "df[\"std\"] = df.apply(lambda x : calc(x), axis=1)\n",
        "df.loc[44:50,]"
      ],
      "execution_count": 0,
      "outputs": [
        {
          "output_type": "execute_result",
          "data": {
            "text/html": [
              "<div>\n",
              "<style scoped>\n",
              "    .dataframe tbody tr th:only-of-type {\n",
              "        vertical-align: middle;\n",
              "    }\n",
              "\n",
              "    .dataframe tbody tr th {\n",
              "        vertical-align: top;\n",
              "    }\n",
              "\n",
              "    .dataframe thead th {\n",
              "        text-align: right;\n",
              "    }\n",
              "</style>\n",
              "<table border=\"1\" class=\"dataframe\">\n",
              "  <thead>\n",
              "    <tr style=\"text-align: right;\">\n",
              "      <th></th>\n",
              "      <th>target_m</th>\n",
              "      <th>asset_1</th>\n",
              "      <th>asset_2</th>\n",
              "      <th>asset_3</th>\n",
              "      <th>asset_4</th>\n",
              "      <th>Total</th>\n",
              "      <th>std</th>\n",
              "    </tr>\n",
              "  </thead>\n",
              "  <tbody>\n",
              "    <tr>\n",
              "      <th>44</th>\n",
              "      <td>0.045</td>\n",
              "      <td>0.785110661757705</td>\n",
              "      <td>0.0538641896251522</td>\n",
              "      <td>0.133554724646863</td>\n",
              "      <td>0.0274704239702789</td>\n",
              "      <td>1.00000000000000</td>\n",
              "      <td>0.132006550338105</td>\n",
              "    </tr>\n",
              "    <tr>\n",
              "      <th>45</th>\n",
              "      <td>0.046</td>\n",
              "      <td>0.779664617173925</td>\n",
              "      <td>0.0518564597576469</td>\n",
              "      <td>0.138380582803986</td>\n",
              "      <td>0.0300983402644413</td>\n",
              "      <td>0.999999999999999</td>\n",
              "      <td>0.132272902902406</td>\n",
              "    </tr>\n",
              "    <tr>\n",
              "      <th>46</th>\n",
              "      <td>0.047</td>\n",
              "      <td>0.774218572590144</td>\n",
              "      <td>0.0498487298901416</td>\n",
              "      <td>0.143206440961110</td>\n",
              "      <td>0.0327262565586036</td>\n",
              "      <td>0.999999999999999</td>\n",
              "      <td>0.132545959322990</td>\n",
              "    </tr>\n",
              "    <tr>\n",
              "      <th>47</th>\n",
              "      <td>0.048</td>\n",
              "      <td>0.768772528006364</td>\n",
              "      <td>0.0478410000226361</td>\n",
              "      <td>0.148032299118233</td>\n",
              "      <td>0.0353541728527659</td>\n",
              "      <td>0.999999999999999</td>\n",
              "      <td>0.132825678255501</td>\n",
              "    </tr>\n",
              "    <tr>\n",
              "      <th>48</th>\n",
              "      <td>0.049</td>\n",
              "      <td>0.763326483422583</td>\n",
              "      <td>0.0458332701551308</td>\n",
              "      <td>0.152858157275357</td>\n",
              "      <td>0.0379820891469282</td>\n",
              "      <td>0.999999999999999</td>\n",
              "      <td>0.133112017698536</td>\n",
              "    </tr>\n",
              "    <tr>\n",
              "      <th>49</th>\n",
              "      <td>0.050</td>\n",
              "      <td>0.757880438838803</td>\n",
              "      <td>0.0438255402876256</td>\n",
              "      <td>0.157684015432480</td>\n",
              "      <td>0.0406100054410906</td>\n",
              "      <td>1.00000000000000</td>\n",
              "      <td>0.133404935021448</td>\n",
              "    </tr>\n",
              "    <tr>\n",
              "      <th>50</th>\n",
              "      <td>0.051</td>\n",
              "      <td>0.752434394255022</td>\n",
              "      <td>0.0418178104201203</td>\n",
              "      <td>0.162509873589604</td>\n",
              "      <td>0.0432379217352528</td>\n",
              "      <td>0.999999999999999</td>\n",
              "      <td>0.133704386992116</td>\n",
              "    </tr>\n",
              "  </tbody>\n",
              "</table>\n",
              "</div>"
            ],
            "text/plain": [
              "    target_m            asset_1  ...              Total                std\n",
              "44     0.045  0.785110661757705  ...   1.00000000000000  0.132006550338105\n",
              "45     0.046  0.779664617173925  ...  0.999999999999999  0.132272902902406\n",
              "46     0.047  0.774218572590144  ...  0.999999999999999  0.132545959322990\n",
              "47     0.048  0.768772528006364  ...  0.999999999999999  0.132825678255501\n",
              "48     0.049  0.763326483422583  ...  0.999999999999999  0.133112017698536\n",
              "49     0.050  0.757880438838803  ...   1.00000000000000  0.133404935021448\n",
              "50     0.051  0.752434394255022  ...  0.999999999999999  0.133704386992116\n",
              "\n",
              "[7 rows x 7 columns]"
            ]
          },
          "metadata": {
            "tags": []
          },
          "execution_count": 6
        }
      ]
    },
    {
      "cell_type": "markdown",
      "metadata": {
        "id": "wW9zcZ4sHsc3",
        "colab_type": "text"
      },
      "source": [
        "## Part 2: Plot the Efficient Frontier"
      ]
    },
    {
      "cell_type": "code",
      "metadata": {
        "id": "0zsdlZ3b9rqa",
        "colab_type": "code",
        "outputId": "f31a824c-8887-472d-fce7-49a9aa8121be",
        "colab": {
          "base_uri": "https://localhost:8080/",
          "height": 297
        }
      },
      "source": [
        "df.target_m = df.target_m.astype(float)\n",
        "df[\"std\"] = df[\"std\"].astype(float)\n",
        "df.plot.scatter(x=\"std\", y=\"target_m\")"
      ],
      "execution_count": 0,
      "outputs": [
        {
          "output_type": "execute_result",
          "data": {
            "text/plain": [
              "<matplotlib.axes._subplots.AxesSubplot at 0x7f44984ff5f8>"
            ]
          },
          "metadata": {
            "tags": []
          },
          "execution_count": 7
        },
        {
          "output_type": "display_data",
          "data": {
            "image/png": "[encoded data removed]",
            "text/plain": [
              "<Figure size 432x288 with 1 Axes>"
            ]
          },
          "metadata": {
            "tags": []
          }
        }
      ]
    },
    {
      "cell_type": "markdown",
      "metadata": {
        "id": "5qGfX0jx9NL1",
        "colab_type": "text"
      },
      "source": [
        ""
      ]
    }
  ]
}